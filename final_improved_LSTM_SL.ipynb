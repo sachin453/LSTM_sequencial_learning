{
 "cells": [
  {
   "cell_type": "code",
   "execution_count": 1,
   "id": "9dceda70",
   "metadata": {},
   "outputs": [],
   "source": [
    "#import all the necessary libraries and modules\n",
    "import pandas as pd\n",
    "import numpy as np\n",
    "from keras_preprocessing.sequence import pad_sequences\n",
    "from sklearn.model_selection import train_test_split\n",
    "from sklearn.metrics import average_precision_score\n",
    "import keras\n",
    "from keras.utils.np_utils import to_categorical\n",
    "from keras.callbacks import EarlyStopping\n",
    "from keras.layers import Dense, Embedding, LSTM, SpatialDropout1D\n",
    "from keras.models import Sequential\n",
    "from sklearn.feature_extraction.text import CountVectorizer\n",
    "from sklearn.metrics import precision_recall_curve\n",
    "from funcsigs import signature\n",
    "from keras.preprocessing.text import Tokenizer\n",
    "import seaborn as sns\n",
    "import time\n",
    "import os\n",
    "import matplotlib.pyplot as plt\n",
    "import matplotlib.pyplot as plt\n",
    "%matplotlib inline\n",
    "from pandas.plotting import table"
   ]
  },
  {
   "cell_type": "code",
   "execution_count": 2,
   "id": "a08fa419",
   "metadata": {},
   "outputs": [
    {
     "data": {
      "text/html": [
       "<div>\n",
       "<style scoped>\n",
       "    .dataframe tbody tr th:only-of-type {\n",
       "        vertical-align: middle;\n",
       "    }\n",
       "\n",
       "    .dataframe tbody tr th {\n",
       "        vertical-align: top;\n",
       "    }\n",
       "\n",
       "    .dataframe thead th {\n",
       "        text-align: right;\n",
       "    }\n",
       "</style>\n",
       "<table border=\"1\" class=\"dataframe\">\n",
       "  <thead>\n",
       "    <tr style=\"text-align: right;\">\n",
       "      <th></th>\n",
       "      <th>smart_contract_address</th>\n",
       "      <th>op_code</th>\n",
       "      <th>vulnerability</th>\n",
       "    </tr>\n",
       "  </thead>\n",
       "  <tbody>\n",
       "    <tr>\n",
       "      <th>0</th>\n",
       "      <td>0x219f4ee903f78e78773e5d1e3520cfd507485bc6</td>\n",
       "      <td>60 60 52 36 15 61 57 60 35 7c 90 04 63 16 80 6...</td>\n",
       "      <td>1 0 0 0</td>\n",
       "    </tr>\n",
       "    <tr>\n",
       "      <th>1</th>\n",
       "      <td>0x560ed796aa8d23411b94b9d047ecdda39d4fcdeb</td>\n",
       "      <td>60 60 52 36 15 61 57 60 35 7c 90 04 63 16 80 6...</td>\n",
       "      <td>1 0 0 0</td>\n",
       "    </tr>\n",
       "    <tr>\n",
       "      <th>2</th>\n",
       "      <td>0xe726f97ff3c63dd71c1520c102adc39d1a2693ea</td>\n",
       "      <td>60 60 52 36 15 61 57 60 35 7c 90 04 63 16 80 6...</td>\n",
       "      <td>1 0 0 0</td>\n",
       "    </tr>\n",
       "    <tr>\n",
       "      <th>3</th>\n",
       "      <td>0x8ebac490495958b3804bb079e259340f0f53b69c</td>\n",
       "      <td>60 60 52 36 15 61 57 60 35 7c 90 04 63 16 80 6...</td>\n",
       "      <td>1 0 0 0</td>\n",
       "    </tr>\n",
       "    <tr>\n",
       "      <th>4</th>\n",
       "      <td>0x190700d69031db6b072a30577f9b3dbc53a320a1</td>\n",
       "      <td>60 60 52 36 15 61 57 60 35 7c 90 04 63 16 80 6...</td>\n",
       "      <td>1 0 0 0</td>\n",
       "    </tr>\n",
       "  </tbody>\n",
       "</table>\n",
       "</div>"
      ],
      "text/plain": [
       "                       smart_contract_address  \\\n",
       "0  0x219f4ee903f78e78773e5d1e3520cfd507485bc6   \n",
       "1  0x560ed796aa8d23411b94b9d047ecdda39d4fcdeb   \n",
       "2  0xe726f97ff3c63dd71c1520c102adc39d1a2693ea   \n",
       "3  0x8ebac490495958b3804bb079e259340f0f53b69c   \n",
       "4  0x190700d69031db6b072a30577f9b3dbc53a320a1   \n",
       "\n",
       "                                             op_code vulnerability  \n",
       "0  60 60 52 36 15 61 57 60 35 7c 90 04 63 16 80 6...       1 0 0 0  \n",
       "1  60 60 52 36 15 61 57 60 35 7c 90 04 63 16 80 6...       1 0 0 0  \n",
       "2  60 60 52 36 15 61 57 60 35 7c 90 04 63 16 80 6...       1 0 0 0  \n",
       "3  60 60 52 36 15 61 57 60 35 7c 90 04 63 16 80 6...       1 0 0 0  \n",
       "4  60 60 52 36 15 61 57 60 35 7c 90 04 63 16 80 6...       1 0 0 0  "
      ]
     },
     "execution_count": 2,
     "metadata": {},
     "output_type": "execute_result"
    }
   ],
   "source": [
    "data = pd.read_csv('Dataset/smart_contracts_op_codes.csv') # importing dataset\n",
    "data.columns=['smart_contract_address', 'op_code', 'vulnerability']\n",
    "data.head()"
   ]
  },
  {
   "cell_type": "code",
   "execution_count": 3,
   "id": "15bf1cb3",
   "metadata": {},
   "outputs": [],
   "source": [
    "# splitting the dataset into different types of vulnerabilities\n",
    "vcs=pd.value_counts(data['vulnerability'])\n",
    "labels1=vcs.index\n",
    "v0=data[data['vulnerability'] == labels1[0]]\n",
    "v1=data[data['vulnerability'] == labels1[1]]\n",
    "v2=data[data['vulnerability'] == labels1[2]]\n",
    "v3=data[data['vulnerability'] == labels1[3]]\n",
    "v4=data[data['vulnerability'] == labels1[4]]"
   ]
  },
  {
   "cell_type": "code",
   "execution_count": 4,
   "id": "80c0bb05",
   "metadata": {},
   "outputs": [
    {
     "data": {
      "image/png": "[encoded data removed]",
      "text/plain": [
       "<Figure size 432x288 with 1 Axes>"
      ]
     },
     "metadata": {},
     "output_type": "display_data"
    }
   ],
   "source": [
    "# showing class imbalance\n",
    "# here, samples with vulnerabilities << samples without vulnerabilities\n",
    "# so, in order to balance the class, we drop excess samples without vulnerabilities\n",
    "sample_labels = np.array([v0.shape[0],v1.shape[0]+v2.shape[0]+v3.shape[0]+v4.shape[0]])\n",
    "mylabels = [\"vulnerability_absent\", \"vulnerability_present\"]\n",
    "plt.pie(sample_labels,shadow=True,labels=mylabels)\n",
    "plt.title('Class_imbalance_Overall_Dataset')\n",
    "plt.show()"
   ]
  },
  {
   "cell_type": "code",
   "execution_count": 5,
   "id": "e2294570",
   "metadata": {},
   "outputs": [
    {
     "name": "stdout",
     "output_type": "stream",
     "text": [
      "positive sample size =  (8640, 3)\n",
      "negative sample size =  (884273, 3)\n"
     ]
    }
   ],
   "source": [
    "# combining all samples with vulnerabilities into one dataset\n",
    "positive_samples=pd.concat([v1,v2,v3,v4],axis=0)\n",
    "positive_sample_size=positive_samples.shape\n",
    "negative_samples=v0\n",
    "negative_sample_size=negative_samples.shape\n",
    "print('positive sample size = ',positive_sample_size)\n",
    "print('negative sample size = ',negative_sample_size)"
   ]
  },
  {
   "cell_type": "code",
   "execution_count": 6,
   "id": "c9163b86",
   "metadata": {},
   "outputs": [],
   "source": [
    "# conversion of op code to sequence of number using tokenization # NLP\n",
    "def preprocess(df):\n",
    "    n_most_common_words = 1000 \n",
    "    max_len = 130\n",
    "    tokenizer = Tokenizer(num_words=n_most_common_words, lower=False)\n",
    "    tokenizer.fit_on_texts(df['op_code'].values)\n",
    "    sequences = tokenizer.texts_to_sequences(df['op_code'].values)\n",
    "    word_index = tokenizer.word_index\n",
    "    print('Found %s unique tokens.' % len(word_index))\n",
    "    X = pad_sequences(sequences, maxlen=max_len)\n",
    "    return X"
   ]
  },
  {
   "cell_type": "code",
   "execution_count": 7,
   "id": "51a82b8a",
   "metadata": {},
   "outputs": [
    {
     "name": "stderr",
     "output_type": "stream",
     "text": [
      "C:\\Users\\acer\\AppData\\Local\\Programs\\Python\\Python310\\lib\\site-packages\\pandas\\core\\indexing.py:1732: SettingWithCopyWarning: \n",
      "A value is trying to be set on a copy of a slice from a DataFrame\n",
      "\n",
      "See the caveats in the documentation: https://pandas.pydata.org/pandas-docs/stable/user_guide/indexing.html#returning-a-view-versus-a-copy\n",
      "  self._setitem_single_block(indexer, value, name)\n",
      "C:\\Users\\acer\\AppData\\Local\\Programs\\Python\\Python310\\lib\\site-packages\\pandas\\core\\indexing.py:723: SettingWithCopyWarning: \n",
      "A value is trying to be set on a copy of a slice from a DataFrame\n",
      "\n",
      "See the caveats in the documentation: https://pandas.pydata.org/pandas-docs/stable/user_guide/indexing.html#returning-a-view-versus-a-copy\n",
      "  iloc._setitem_with_indexer(indexer, value, self.name)\n"
     ]
    }
   ],
   "source": [
    "positive_samples.loc[:,['vulnerability']] = 1\n",
    "negative_samples.loc[:,['vulnerability']]=0"
   ]
  },
  {
   "cell_type": "code",
   "execution_count": 8,
   "id": "978e04dc",
   "metadata": {},
   "outputs": [
    {
     "name": "stdout",
     "output_type": "stream",
     "text": [
      "Found 150 unique tokens.\n"
     ]
    }
   ],
   "source": [
    "X=pd.concat([positive_samples,negative_samples],axis=0)\n",
    "y=X.vulnerability\n",
    "X=preprocess(X)"
   ]
  },
  {
   "cell_type": "code",
   "execution_count": 9,
   "id": "f37232c0",
   "metadata": {},
   "outputs": [],
   "source": [
    "from imblearn.over_sampling import SMOTE\n",
    "y=y.astype('int')\n",
    "smote = SMOTE(sampling_strategy='minority')\n",
    "X_sm, y_sm = smote.fit_resample(X, y)"
   ]
  },
  {
   "cell_type": "code",
   "execution_count": 10,
   "id": "54d06dcd",
   "metadata": {},
   "outputs": [],
   "source": [
    "X_train, X2, y_train, y2 = train_test_split(X_sm, y_sm, train_size=0.64)\n",
    "X_test,X_val,y_test,y_val=train_test_split(X2,y2,train_size=.56)"
   ]
  },
  {
   "cell_type": "code",
   "execution_count": 11,
   "id": "7753f0e0",
   "metadata": {},
   "outputs": [],
   "source": [
    "y_train_cat = to_categorical(y_train, num_classes=2)\n",
    "y_val_cat = to_categorical(y_val, num_classes=2)\n",
    "y_test_cat = to_categorical(y_test, num_classes=2)"
   ]
  },
  {
   "cell_type": "code",
   "execution_count": 12,
   "id": "cf3073fd",
   "metadata": {},
   "outputs": [
    {
     "name": "stdout",
     "output_type": "stream",
     "text": [
      "Model: \"sequential\"\n",
      "_________________________________________________________________\n",
      " Layer (type)                Output Shape              Param #   \n",
      "=================================================================\n",
      " embedding (Embedding)       (None, 130, 128)          128000    \n",
      "                                                                 \n",
      " spatial_dropout1d (SpatialD  (None, 130, 128)         0         \n",
      " ropout1D)                                                       \n",
      "                                                                 \n",
      " lstm (LSTM)                 (None, 64)                49408     \n",
      "                                                                 \n",
      " dense (Dense)               (None, 2)                 130       \n",
      "                                                                 \n",
      "=================================================================\n",
      "Total params: 177,538\n",
      "Trainable params: 177,538\n",
      "Non-trainable params: 0\n",
      "_________________________________________________________________\n",
      "None\n",
      "Epoch 1/2\n",
      "4422/4422 [==============================] - 5316s 1s/step - loss: 0.0845 - acc: 0.9720 - val_loss: 0.0409 - val_acc: 0.9871\n",
      "Epoch 2/2\n",
      "4422/4422 [==============================] - 4302s 973ms/step - loss: 0.0414 - acc: 0.9866 - val_loss: 0.0282 - val_acc: 0.9910\n",
      "Time taken for training:  9618.678092002869\n"
     ]
    }
   ],
   "source": [
    "# training of the parameter in network \n",
    "keras.backend.clear_session()\n",
    "n_most_common_words = 1000 \n",
    "model = Sequential()\n",
    "model.add(Embedding(n_most_common_words, 128, input_length=X_train.shape[1]))\n",
    "model.add(SpatialDropout1D(0.6))\n",
    "model.add(LSTM(64, dropout=0.6, recurrent_dropout=0.6))\n",
    "model.add(Dense(2, activation='sigmoid'))\n",
    "model.compile(optimizer='adam', loss='binary_crossentropy', metrics=['acc'])\n",
    "print(model.summary())\n",
    "start_time = time.time()\n",
    "history = model.fit(X_train, y_train_cat, epochs=2, batch_size=256, validation_split=0.0, validation_data=(X_val, y_val_cat),callbacks=[EarlyStopping(monitor='loss',patience=7, min_delta=0.0001)])\n",
    "end_time = time.time()\n",
    "print('Time taken for training: ', end_time-start_time)"
   ]
  },
  {
   "cell_type": "code",
   "execution_count": 13,
   "id": "68264aec",
   "metadata": {},
   "outputs": [
    {
     "name": "stdout",
     "output_type": "stream",
     "text": [
      "11142/11142 [==============================] - 249s 22ms/step\n"
     ]
    }
   ],
   "source": [
    "y_predicted = model.predict(X_test, batch_size=32, verbose=1)\n",
    "y_test = np.array(y_test)\n",
    "arr = np.array(range(0,len(y_test),1))\n",
    "for i in range(0,len(y_test),1):\n",
    "    if(y_predicted[i][0]<y_predicted[i][1]):\n",
    "        arr[i]=1\n",
    "    else:\n",
    "        arr[i]=0\n",
    "y_predicted=arr"
   ]
  },
  {
   "cell_type": "code",
   "execution_count": 14,
   "id": "42797cda",
   "metadata": {},
   "outputs": [
    {
     "name": "stdout",
     "output_type": "stream",
     "text": [
      "true positives =  177867\n",
      "false positives =  2517\n",
      "true negatives =  175305\n",
      "false negatives =  850\n"
     ]
    }
   ],
   "source": [
    "# other performance parameter evaluation\n",
    "TP=0\n",
    "TN=0\n",
    "FP=0\n",
    "FN=0\n",
    "for i in range(0,len(y_predicted),1):\n",
    "    if(y_test[i]==0):\n",
    "        if(y_predicted[i]==0):\n",
    "            TN+=1\n",
    "        else:\n",
    "            FP+=1\n",
    "    else:\n",
    "        if(y_predicted[i]==1):\n",
    "            TP+=1\n",
    "        else:\n",
    "            FN+=1\n",
    "print(\"true positives = \", TP)\n",
    "print(\"false positives = \", FP)\n",
    "print(\"true negatives = \", TN)\n",
    "print(\"false negatives = \", FN)"
   ]
  },
  {
   "cell_type": "code",
   "execution_count": 15,
   "id": "b3effcdc",
   "metadata": {},
   "outputs": [
    {
     "name": "stdout",
     "output_type": "stream",
     "text": [
      "accuracy =  99.05564328166064 %\n",
      "Precision =  98.60464342735497 %\n",
      "Recall =  99.52438771913137 %\n",
      "F1-score =  99.06238077866674 %\n"
     ]
    }
   ],
   "source": [
    "TPR=TP/(TP+FN)\n",
    "FPR=FP/(FP+TN)\n",
    "TNR=TN/(TN+FP)\n",
    "FNR=FN/(FN+TP)\n",
    "P=TP/(TP+FP)\n",
    "R=TP/(TP+FN)\n",
    "F1_score=2*P*R/(P+R)\n",
    "acc=(TP+TN)/(TP+TN+FP+FN)\n",
    "print(\"accuracy = \",acc*100,'%')\n",
    "print(\"Precision = \",P*100,'%')\n",
    "print(\"Recall = \",R*100,'%')\n",
    "print(\"F1-score = \",F1_score*100,'%')"
   ]
  },
  {
   "cell_type": "code",
   "execution_count": 16,
   "id": "a20235ea",
   "metadata": {},
   "outputs": [
    {
     "name": "stdout",
     "output_type": "stream",
     "text": [
      "False negative rate =  0.4756122808686359 %\n",
      "True positive rate =  99.52438771913137 %\n"
     ]
    }
   ],
   "source": [
    "print('False negative rate = ',FN/(FN+TP)*100,'%')\n",
    "print('True positive rate = ',TP/(TP+FN)*100,'%')"
   ]
  }
 ],
 "metadata": {
  "kernelspec": {
   "display_name": "Python 3 (ipykernel)",
   "language": "python",
   "name": "python3"
  },
  "language_info": {
   "codemirror_mode": {
    "name": "ipython",
    "version": 3
   },
   "file_extension": ".py",
   "mimetype": "text/x-python",
   "name": "python",
   "nbconvert_exporter": "python",
   "pygments_lexer": "ipython3",
   "version": "3.10.1"
  }
 },
 "nbformat": 4,
 "nbformat_minor": 5
}
