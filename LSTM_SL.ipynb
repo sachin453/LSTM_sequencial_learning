{
 "cells": [
  {
   "cell_type": "code",
   "execution_count": null,
   "id": "9dceda70",
   "metadata": {},
   "outputs": [],
   "source": [
    "#import all the necessary libraries and modules\n",
    "import pandas as pd\n",
    "import numpy as np\n",
    "from keras_preprocessing.sequence import pad_sequences\n",
    "from sklearn.model_selection import train_test_split\n",
    "from sklearn.metrics import average_precision_score\n",
    "import keras\n",
    "from keras.utils.np_utils import to_categorical\n",
    "from keras.callbacks import EarlyStopping\n",
    "from keras.layers import Dense, Embedding, LSTM, SpatialDropout1D\n",
    "from keras.models import Sequential\n",
    "from sklearn.feature_extraction.text import CountVectorizer\n",
    "from sklearn.metrics import precision_recall_curve\n",
    "from funcsigs import signature\n",
    "from keras.preprocessing.text import Tokenizer\n",
    "import seaborn as sns\n",
    "import time\n",
    "import os\n",
    "import matplotlib.pyplot as plt\n",
    "#os.environ[\"CUDA_DEVICE_ORDER\"]=\"PCI_BUS_ID\"\n",
    "#os.environ[\"CUDA_VISIBLE_DEVICES\"]=\"1\"\n",
    "import matplotlib.pyplot as plt\n",
    "%matplotlib inline\n",
    "from pandas.plotting import table"
   ]
  },
  {
   "cell_type": "code",
   "execution_count": 2,
   "id": "a08fa419",
   "metadata": {
    "scrolled": true
   },
   "outputs": [
    {
     "data": {
      "text/html": [
       "<div>\n",
       "<style scoped>\n",
       "    .dataframe tbody tr th:only-of-type {\n",
       "        vertical-align: middle;\n",
       "    }\n",
       "\n",
       "    .dataframe tbody tr th {\n",
       "        vertical-align: top;\n",
       "    }\n",
       "\n",
       "    .dataframe thead th {\n",
       "        text-align: right;\n",
       "    }\n",
       "</style>\n",
       "<table border=\"1\" class=\"dataframe\">\n",
       "  <thead>\n",
       "    <tr style=\"text-align: right;\">\n",
       "      <th></th>\n",
       "      <th>smart_contract_address</th>\n",
       "      <th>op_code</th>\n",
       "      <th>vulnerability</th>\n",
       "    </tr>\n",
       "  </thead>\n",
       "  <tbody>\n",
       "    <tr>\n",
       "      <th>0</th>\n",
       "      <td>0x219f4ee903f78e78773e5d1e3520cfd507485bc6</td>\n",
       "      <td>60 60 52 36 15 61 57 60 35 7c 90 04 63 16 80 6...</td>\n",
       "      <td>1 0 0 0</td>\n",
       "    </tr>\n",
       "    <tr>\n",
       "      <th>1</th>\n",
       "      <td>0x560ed796aa8d23411b94b9d047ecdda39d4fcdeb</td>\n",
       "      <td>60 60 52 36 15 61 57 60 35 7c 90 04 63 16 80 6...</td>\n",
       "      <td>1 0 0 0</td>\n",
       "    </tr>\n",
       "    <tr>\n",
       "      <th>2</th>\n",
       "      <td>0xe726f97ff3c63dd71c1520c102adc39d1a2693ea</td>\n",
       "      <td>60 60 52 36 15 61 57 60 35 7c 90 04 63 16 80 6...</td>\n",
       "      <td>1 0 0 0</td>\n",
       "    </tr>\n",
       "    <tr>\n",
       "      <th>3</th>\n",
       "      <td>0x8ebac490495958b3804bb079e259340f0f53b69c</td>\n",
       "      <td>60 60 52 36 15 61 57 60 35 7c 90 04 63 16 80 6...</td>\n",
       "      <td>1 0 0 0</td>\n",
       "    </tr>\n",
       "    <tr>\n",
       "      <th>4</th>\n",
       "      <td>0x190700d69031db6b072a30577f9b3dbc53a320a1</td>\n",
       "      <td>60 60 52 36 15 61 57 60 35 7c 90 04 63 16 80 6...</td>\n",
       "      <td>1 0 0 0</td>\n",
       "    </tr>\n",
       "  </tbody>\n",
       "</table>\n",
       "</div>"
      ],
      "text/plain": [
       "                       smart_contract_address  \\\n",
       "0  0x219f4ee903f78e78773e5d1e3520cfd507485bc6   \n",
       "1  0x560ed796aa8d23411b94b9d047ecdda39d4fcdeb   \n",
       "2  0xe726f97ff3c63dd71c1520c102adc39d1a2693ea   \n",
       "3  0x8ebac490495958b3804bb079e259340f0f53b69c   \n",
       "4  0x190700d69031db6b072a30577f9b3dbc53a320a1   \n",
       "\n",
       "                                             op_code vulnerability  \n",
       "0  60 60 52 36 15 61 57 60 35 7c 90 04 63 16 80 6...       1 0 0 0  \n",
       "1  60 60 52 36 15 61 57 60 35 7c 90 04 63 16 80 6...       1 0 0 0  \n",
       "2  60 60 52 36 15 61 57 60 35 7c 90 04 63 16 80 6...       1 0 0 0  \n",
       "3  60 60 52 36 15 61 57 60 35 7c 90 04 63 16 80 6...       1 0 0 0  \n",
       "4  60 60 52 36 15 61 57 60 35 7c 90 04 63 16 80 6...       1 0 0 0  "
      ]
     },
     "execution_count": 2,
     "metadata": {},
     "output_type": "execute_result"
    }
   ],
   "source": [
    "data = pd.read_csv('Dataset/smart_contracts_op_codes.csv') # importing dataset\n",
    "data.columns=['smart_contract_address', 'op_code', 'vulnerability']\n",
    "data.head()"
   ]
  },
  {
   "cell_type": "code",
   "execution_count": 3,
   "id": "920ab8e1",
   "metadata": {},
   "outputs": [
    {
     "data": {
      "text/plain": [
       "(892913, 3)"
      ]
     },
     "execution_count": 3,
     "metadata": {},
     "output_type": "execute_result"
    }
   ],
   "source": [
    "data.shape"
   ]
  },
  {
   "cell_type": "code",
   "execution_count": 4,
   "id": "15bf1cb3",
   "metadata": {},
   "outputs": [],
   "source": [
    "# splitting the dataset into different types of vulnerabilities\n",
    "vcs=pd.value_counts(data['vulnerability'])\n",
    "labels1=vcs.index\n",
    "v0=data[data['vulnerability'] == labels1[0]]\n",
    "v1=data[data['vulnerability'] == labels1[1]]\n",
    "v2=data[data['vulnerability'] == labels1[2]]\n",
    "v3=data[data['vulnerability'] == labels1[3]]\n",
    "v4=data[data['vulnerability'] == labels1[4]]"
   ]
  },
  {
   "cell_type": "code",
   "execution_count": 5,
   "id": "80c0bb05",
   "metadata": {},
   "outputs": [
    {
     "data": {
      "image/png": "[encoded data removed]",
      "text/plain": [
       "<Figure size 432x288 with 1 Axes>"
      ]
     },
     "metadata": {},
     "output_type": "display_data"
    }
   ],
   "source": [
    "# showing class imbalance\n",
    "# here, samples with vulnerabilities << samples without vulnerabilities\n",
    "# so, in order to balance the class, we drop excess samples without vulnerabilities\n",
    "sample_labels = np.array([v0.shape[0],v1.shape[0],v2.shape[0],v3.shape[0],v4.shape[0]])\n",
    "mylabels = [\"no_vulnerability\", \"type1\", \"type2\", \"type3\",\"type4\"]\n",
    "plt.pie(sample_labels,shadow=True,labels=mylabels)\n",
    "plt.title('Class_imbalance_Overall_Dataset')\n",
    "plt.show()"
   ]
  },
  {
   "cell_type": "code",
   "execution_count": 6,
   "id": "e2294570",
   "metadata": {},
   "outputs": [],
   "source": [
    "# combining all samples with vulnerabilities into one dataset\n",
    "positive_samples=pd.concat([v1,v2,v3,v4],axis=0)\n",
    "positive_sample_size=positive_samples.shape\n",
    "negative_samples=v0.sample(positive_sample_size[0])\n",
    "negative_sample_size=negative_samples.shape"
   ]
  },
  {
   "cell_type": "code",
   "execution_count": 7,
   "id": "002e9a10",
   "metadata": {
    "scrolled": true
   },
   "outputs": [
    {
     "data": {
      "image/png": "[encoded data removed]",
      "text/plain": [
       "<Figure size 432x288 with 1 Axes>"
      ]
     },
     "metadata": {},
     "output_type": "display_data"
    }
   ],
   "source": [
    "# after dropping excess samples without vulnerability\n",
    "sample_labels = np.array([negative_samples.shape[0],v1.shape[0],v2.shape[0],v3.shape[0],v4.shape[0]])\n",
    "mylabels = [\"no_vulnerability\", \"type1\", \"type2\", \"type3\",\"type4\"]\n",
    "plt.pie(sample_labels,shadow=True,labels=mylabels)\n",
    "plt.title('Overall_Dataset')\n",
    "plt.show() "
   ]
  },
  {
   "cell_type": "code",
   "execution_count": 8,
   "id": "c9163b86",
   "metadata": {},
   "outputs": [],
   "source": [
    "# conversion of op code to sequence of number using tokenization # NLP\n",
    "def preprocess(df):\n",
    "    n_most_common_words = 1000 \n",
    "    max_len = 130\n",
    "    tokenizer = Tokenizer(num_words=n_most_common_words, lower=False)\n",
    "    tokenizer.fit_on_texts(df['op_code'].values)\n",
    "    sequences = tokenizer.texts_to_sequences(df['op_code'].values)\n",
    "    word_index = tokenizer.word_index\n",
    "    print('Found %s unique tokens.' % len(word_index))\n",
    "    X = pad_sequences(sequences, maxlen=max_len)\n",
    "    return X"
   ]
  },
  {
   "cell_type": "code",
   "execution_count": 9,
   "id": "7201c0f0",
   "metadata": {},
   "outputs": [
    {
     "name": "stdout",
     "output_type": "stream",
     "text": [
      "Found 150 unique tokens.\n",
      "Found 150 unique tokens.\n",
      "Found 150 unique tokens.\n"
     ]
    },
    {
     "data": {
      "text/plain": [
       "(17280, 3)"
      ]
     },
     "execution_count": 9,
     "metadata": {},
     "output_type": "execute_result"
    }
   ],
   "source": [
    "preprocessed_positive_samples=preprocess(positive_samples)\n",
    "preprocessed_negative_samples=preprocess(negative_samples)\n",
    "X_not_pp=pd.concat([positive_samples,negative_samples],axis=0)\n",
    "X=preprocess(X_not_pp)\n",
    "X_not_pp.shape"
   ]
  },
  {
   "cell_type": "code",
   "execution_count": 10,
   "id": "93fcf3c8",
   "metadata": {},
   "outputs": [
    {
     "data": {
      "text/html": [
       "<div>\n",
       "<style scoped>\n",
       "    .dataframe tbody tr th:only-of-type {\n",
       "        vertical-align: middle;\n",
       "    }\n",
       "\n",
       "    .dataframe tbody tr th {\n",
       "        vertical-align: top;\n",
       "    }\n",
       "\n",
       "    .dataframe thead th {\n",
       "        text-align: right;\n",
       "    }\n",
       "</style>\n",
       "<table border=\"1\" class=\"dataframe\">\n",
       "  <thead>\n",
       "    <tr style=\"text-align: right;\">\n",
       "      <th></th>\n",
       "      <th>smart_contract_address</th>\n",
       "      <th>op_code</th>\n",
       "      <th>vulnerability</th>\n",
       "    </tr>\n",
       "  </thead>\n",
       "  <tbody>\n",
       "    <tr>\n",
       "      <th>1483</th>\n",
       "      <td>0x3e72c21f50170a76149dce9b8ba1eccbd5973ac7</td>\n",
       "      <td>60 60 52 36 15 61 57 60 35 7c 90 04 63 16 80 6...</td>\n",
       "      <td>0 0 0 1</td>\n",
       "    </tr>\n",
       "    <tr>\n",
       "      <th>1849</th>\n",
       "      <td>0x78530704aa62a96f6e2f20fb4621ea740fb18dcc</td>\n",
       "      <td>60 60 52 36 15 61 57 60 35 7c 90 04 63 16 80 6...</td>\n",
       "      <td>0 0 0 1</td>\n",
       "    </tr>\n",
       "    <tr>\n",
       "      <th>2442</th>\n",
       "      <td>0x4574ff7d8e558ae89ce179abfac16f44eca1d493</td>\n",
       "      <td>60 60 52 36 15 60 57 60 56 5b 60 5b 7f 60 51 8...</td>\n",
       "      <td>0 0 0 1</td>\n",
       "    </tr>\n",
       "    <tr>\n",
       "      <th>2443</th>\n",
       "      <td>0xbcb3cb6f0a281bff6871fef0833b2e1d723dd47c</td>\n",
       "      <td>60 60 52 36 15 60 57 60 56 5b 60 5b 7f 60 51 8...</td>\n",
       "      <td>0 0 0 1</td>\n",
       "    </tr>\n",
       "    <tr>\n",
       "      <th>2483</th>\n",
       "      <td>0x43b8a55e1142cadba4f08ae0a382bd409a90733a</td>\n",
       "      <td>60 60 52 36 15 61 57 60 60 0a 60 35 04 63 81 1...</td>\n",
       "      <td>0 0 0 1</td>\n",
       "    </tr>\n",
       "    <tr>\n",
       "      <th>...</th>\n",
       "      <td>...</td>\n",
       "      <td>...</td>\n",
       "      <td>...</td>\n",
       "    </tr>\n",
       "    <tr>\n",
       "      <th>370638</th>\n",
       "      <td>0x1f128f76a5f844021861837376105e9cb6b73b01</td>\n",
       "      <td>60 60 52 36 15 61 57 60 35 7c 90 04 63 16 80 6...</td>\n",
       "      <td>1 0 0 0</td>\n",
       "    </tr>\n",
       "    <tr>\n",
       "      <th>532142</th>\n",
       "      <td>0xa86af9aaf2cdced702c53482731fdb923635b4e9</td>\n",
       "      <td>60 60 52 36 15 61 57 63 7c 60 35 04 16 63 81 1...</td>\n",
       "      <td>1 0 0 0</td>\n",
       "    </tr>\n",
       "    <tr>\n",
       "      <th>510307</th>\n",
       "      <td>0x597f5397e8bd2624eacb9f9662cf708d5d4ffc78</td>\n",
       "      <td>60 60 52 36 15 61 57 60 35 7c 90 04 63 16 80 6...</td>\n",
       "      <td>1 0 0 0</td>\n",
       "    </tr>\n",
       "    <tr>\n",
       "      <th>632555</th>\n",
       "      <td>0x2c14d72b45541c32e5dae4503aeda9e12a27fa73</td>\n",
       "      <td>60 60 52 5b 5b 73 30 73 16 31 80 15 61 02 90 6...</td>\n",
       "      <td>1 0 0 0</td>\n",
       "    </tr>\n",
       "    <tr>\n",
       "      <th>860259</th>\n",
       "      <td>0xa2ca1f71b625187ca3e076643883da051621c25c</td>\n",
       "      <td>60 60 52 36 15 61 57 60 60 0a 60 35 04 63 81 1...</td>\n",
       "      <td>1 0 0 0</td>\n",
       "    </tr>\n",
       "  </tbody>\n",
       "</table>\n",
       "<p>17280 rows × 3 columns</p>\n",
       "</div>"
      ],
      "text/plain": [
       "                            smart_contract_address  \\\n",
       "1483    0x3e72c21f50170a76149dce9b8ba1eccbd5973ac7   \n",
       "1849    0x78530704aa62a96f6e2f20fb4621ea740fb18dcc   \n",
       "2442    0x4574ff7d8e558ae89ce179abfac16f44eca1d493   \n",
       "2443    0xbcb3cb6f0a281bff6871fef0833b2e1d723dd47c   \n",
       "2483    0x43b8a55e1142cadba4f08ae0a382bd409a90733a   \n",
       "...                                            ...   \n",
       "370638  0x1f128f76a5f844021861837376105e9cb6b73b01   \n",
       "532142  0xa86af9aaf2cdced702c53482731fdb923635b4e9   \n",
       "510307  0x597f5397e8bd2624eacb9f9662cf708d5d4ffc78   \n",
       "632555  0x2c14d72b45541c32e5dae4503aeda9e12a27fa73   \n",
       "860259  0xa2ca1f71b625187ca3e076643883da051621c25c   \n",
       "\n",
       "                                                  op_code vulnerability  \n",
       "1483    60 60 52 36 15 61 57 60 35 7c 90 04 63 16 80 6...       0 0 0 1  \n",
       "1849    60 60 52 36 15 61 57 60 35 7c 90 04 63 16 80 6...       0 0 0 1  \n",
       "2442    60 60 52 36 15 60 57 60 56 5b 60 5b 7f 60 51 8...       0 0 0 1  \n",
       "2443    60 60 52 36 15 60 57 60 56 5b 60 5b 7f 60 51 8...       0 0 0 1  \n",
       "2483    60 60 52 36 15 61 57 60 60 0a 60 35 04 63 81 1...       0 0 0 1  \n",
       "...                                                   ...           ...  \n",
       "370638  60 60 52 36 15 61 57 60 35 7c 90 04 63 16 80 6...       1 0 0 0  \n",
       "532142  60 60 52 36 15 61 57 63 7c 60 35 04 16 63 81 1...       1 0 0 0  \n",
       "510307  60 60 52 36 15 61 57 60 35 7c 90 04 63 16 80 6...       1 0 0 0  \n",
       "632555  60 60 52 5b 5b 73 30 73 16 31 80 15 61 02 90 6...       1 0 0 0  \n",
       "860259  60 60 52 36 15 61 57 60 60 0a 60 35 04 63 81 1...       1 0 0 0  \n",
       "\n",
       "[17280 rows x 3 columns]"
      ]
     },
     "execution_count": 10,
     "metadata": {},
     "output_type": "execute_result"
    }
   ],
   "source": [
    "X_not_pp"
   ]
  },
  {
   "cell_type": "code",
   "execution_count": 11,
   "id": "54d06dcd",
   "metadata": {},
   "outputs": [],
   "source": [
    "# splitting of dataset into train,val and test dataset \n",
    "y1_positive=positive_samples.vulnerability\n",
    "X1_positive=positive_samples.drop(['vulnerability'],axis=1)\n",
    "X_train_positive, X2_positive, y_train_positive, y2_positive = train_test_split(X1_positive, y1_positive, train_size=0.64)\n",
    "X_test_positive,X_val_positive,y_test_positive,y_val_positive=train_test_split(X2_positive,y2_positive,train_size=.5)\n",
    "\n",
    "y1_negative=negative_samples.vulnerability\n",
    "X1_negative=negative_samples.drop(['vulnerability'],axis=1)\n",
    "X_train_negative, X2_negative, y_train_negative, y2_negative = train_test_split(X1_negative, y1_negative, train_size=0.7)\n",
    "X_test_negative,X_val_negative,y_test_negative,y_val_negative=train_test_split(X2_negative,y2_negative,train_size=.56)\n"
   ]
  },
  {
   "cell_type": "code",
   "execution_count": 12,
   "id": "eb606985",
   "metadata": {},
   "outputs": [
    {
     "data": {
      "text/plain": [
       "0 0 0 1    1080\n",
       "0 0 1 0     256\n",
       "0 1 0 0     190\n",
       "0 1 1 0      29\n",
       "Name: vulnerability, dtype: int64"
      ]
     },
     "execution_count": 12,
     "metadata": {},
     "output_type": "execute_result"
    }
   ],
   "source": [
    "y_test_positive.value_counts()"
   ]
  },
  {
   "cell_type": "code",
   "execution_count": 13,
   "id": "cc909858",
   "metadata": {},
   "outputs": [],
   "source": [
    "y_tsp=y_test_positive.index\n",
    "for i in y_tsp:\n",
    "    y_test_positive[i]=1\n",
    "y_trp=y_train_positive.index\n",
    "for i in y_trp:\n",
    "    y_train_positive[i]=1\n",
    "y_tvp=y_val_positive.index\n",
    "for i in y_tvp:\n",
    "    y_val_positive[i]=1\n",
    "y_tsn=y_test_negative.index\n",
    "for i in y_tsn:\n",
    "    y_test_negative[i]=0\n",
    "y_trn=y_train_negative.index\n",
    "for i in y_trn:\n",
    "    y_train_negative[i]=0\n",
    "y_tvn=y_val_negative.index\n",
    "for i in y_tvn:\n",
    "    y_val_negative[i]=0"
   ]
  },
  {
   "cell_type": "code",
   "execution_count": 14,
   "id": "6cb48e15",
   "metadata": {},
   "outputs": [
    {
     "name": "stdout",
     "output_type": "stream",
     "text": [
      "X_train_positive (5529, 2)\n",
      "X_test_positive (1555, 2)\n",
      "X_val_positive (1556, 2)\n",
      "y_train_positive (5529,)\n",
      "y_test_positive (1555,)\n",
      "y_val_positive (1556,)\n"
     ]
    }
   ],
   "source": [
    "print('X_train_positive',X_train_positive.shape)\n",
    "print('X_test_positive',X_test_positive.shape)\n",
    "print('X_val_positive',X_val_positive.shape)\n",
    "print('y_train_positive',y_train_positive.shape)\n",
    "print('y_test_positive',y_test_positive.shape)\n",
    "print('y_val_positive',y_val_positive.shape)"
   ]
  },
  {
   "cell_type": "code",
   "execution_count": 15,
   "id": "4e380473",
   "metadata": {},
   "outputs": [
    {
     "name": "stdout",
     "output_type": "stream",
     "text": [
      "X_train_negative (6048, 2)\n",
      "X_test_negative (1451, 2)\n",
      "X_val_negative (1141, 2)\n",
      "y_train_negative (6048,)\n",
      "y_test_negative (1451,)\n",
      "y_val_negative (1141,)\n"
     ]
    }
   ],
   "source": [
    "print('X_train_negative',X_train_negative.shape)\n",
    "print('X_test_negative',X_test_negative.shape)\n",
    "print('X_val_negative',X_val_negative.shape)\n",
    "print('y_train_negative',y_train_negative.shape)\n",
    "print('y_test_negative',y_test_negative.shape)\n",
    "print('y_val_negative',y_val_negative.shape)"
   ]
  },
  {
   "cell_type": "code",
   "execution_count": 16,
   "id": "bf1158e3",
   "metadata": {},
   "outputs": [],
   "source": [
    "y_train_positive=pd.DataFrame(y_train_positive)\n",
    "y_train_negative=pd.DataFrame(y_train_negative)\n",
    "y_test_positive=pd.DataFrame(y_test_positive)\n",
    "y_val_positive=pd.DataFrame(y_val_positive)\n",
    "y_test_negative=pd.DataFrame(y_test_negative)\n",
    "y_val_negative=pd.DataFrame(y_val_negative)"
   ]
  },
  {
   "cell_type": "code",
   "execution_count": 17,
   "id": "bd3cfa2d",
   "metadata": {},
   "outputs": [],
   "source": [
    "# combining dataset (positive and negative )\n",
    "X_train=pd.concat([X_train_negative,X_train_positive],axis=0)\n",
    "X_val=pd.concat([X_val_negative,X_val_positive],axis=0)\n",
    "X_test=pd.concat([X_test_negative,X_test_positive],axis=0)\n",
    "y_train=pd.concat([y_train_negative,y_train_positive],axis=0)\n",
    "y_val=pd.concat([y_val_negative,y_val_positive],axis=0)\n",
    "y_test=pd.concat([y_test_negative,y_test_positive],axis=0)"
   ]
  },
  {
   "cell_type": "code",
   "execution_count": 18,
   "id": "10fe3902",
   "metadata": {},
   "outputs": [
    {
     "name": "stdout",
     "output_type": "stream",
     "text": [
      "Found 150 unique tokens.\n",
      "Found 150 unique tokens.\n",
      "Found 150 unique tokens.\n"
     ]
    }
   ],
   "source": [
    "X_train=preprocess(X_train)\n",
    "X_val=preprocess(X_val)\n",
    "X_test=preprocess(X_test)"
   ]
  },
  {
   "cell_type": "code",
   "execution_count": 19,
   "id": "5dfd0fd1",
   "metadata": {},
   "outputs": [],
   "source": [
    "y_train=y_train.vulnerability\n",
    "y_test=y_test.vulnerability\n",
    "y_val=y_val.vulnerability"
   ]
  },
  {
   "cell_type": "code",
   "execution_count": 20,
   "id": "7753f0e0",
   "metadata": {},
   "outputs": [],
   "source": [
    "y_train_cat = to_categorical(y_train, num_classes=2)\n",
    "y_val_cat = to_categorical(y_val, num_classes=2)\n",
    "y_test_cat = to_categorical(y_test, num_classes=2)"
   ]
  },
  {
   "cell_type": "code",
   "execution_count": null,
   "id": "cf3073fd",
   "metadata": {},
   "outputs": [
    {
     "name": "stdout",
     "output_type": "stream",
     "text": [
      "Model: \"sequential\"\n",
      "_________________________________________________________________\n",
      " Layer (type)                Output Shape              Param #   \n",
      "=================================================================\n",
      " embedding (Embedding)       (None, 130, 128)          128000    \n",
      "                                                                 \n",
      " spatial_dropout1d (SpatialD  (None, 130, 128)         0         \n",
      " ropout1D)                                                       \n",
      "                                                                 \n",
      " lstm (LSTM)                 (None, 64)                49408     \n",
      "                                                                 \n",
      " dense (Dense)               (None, 2)                 130       \n",
      "                                                                 \n",
      "=================================================================\n",
      "Total params: 177,538\n",
      "Trainable params: 177,538\n",
      "Non-trainable params: 0\n",
      "_________________________________________________________________\n",
      "None\n",
      "Epoch 1/10\n",
      "19/46 [===========>..................] - ETA: 40s - loss: 0.6253 - acc: 0.7469"
     ]
    }
   ],
   "source": [
    "# training of the parameter in network \n",
    "keras.backend.clear_session()\n",
    "n_most_common_words = 1000 \n",
    "model = Sequential()\n",
    "model.add(Embedding(n_most_common_words, 128, input_length=X_train.shape[1]))\n",
    "model.add(SpatialDropout1D(0.6))\n",
    "model.add(LSTM(64, dropout=0.6, recurrent_dropout=0.6))\n",
    "model.add(Dense(2, activation='sigmoid'))\n",
    "model.compile(optimizer='adam', loss='binary_crossentropy', metrics=['acc'])\n",
    "print(model.summary())\n",
    "start_time = time.time()\n",
    "history = model.fit(X_train, y_train_cat, epochs=10, batch_size=256, validation_split=0.0, validation_data=(X_val, y_val_cat),callbacks=[EarlyStopping(monitor='loss',patience=7, min_delta=0.0001)])\n",
    "end_time = time.time()\n",
    "print('Time taken for training: ', end_time-start_time)"
   ]
  },
  {
   "cell_type": "code",
   "execution_count": null,
   "id": "68264aec",
   "metadata": {},
   "outputs": [],
   "source": [
    "y_predicted = model.predict(X_test, batch_size=32, verbose=1)\n",
    "y_test = np.array(y_test)\n",
    "arr = np.array(range(0,len(y_test),1))\n",
    "for i in range(0,len(y_test),1):\n",
    "    if(y_predicted[i][0]<y_predicted[i][1]):\n",
    "        arr[i]=1\n",
    "    else:\n",
    "        arr[i]=0\n",
    "y_predicted=arr"
   ]
  },
  {
   "cell_type": "code",
   "execution_count": null,
   "id": "42797cda",
   "metadata": {},
   "outputs": [],
   "source": [
    "# other performance parameter evaluation\n",
    "TP=0\n",
    "TN=0\n",
    "FP=0\n",
    "FN=0\n",
    "for i in range(0,len(y_predicted),1):\n",
    "    if(y_test[i]==0):\n",
    "        if(y_predicted[i]==0):\n",
    "            TN+=1\n",
    "        else:\n",
    "            FP+=1\n",
    "    else:\n",
    "        if(y_predicted[i]==1):\n",
    "            TP+=1\n",
    "        else:\n",
    "            FN+=1\n",
    "print(\"true positives = \", TP)\n",
    "print(\"false positives = \", FP)\n",
    "print(\"true negatives = \", TN)\n",
    "print(\"false negatives = \", FN)"
   ]
  },
  {
   "cell_type": "code",
   "execution_count": null,
   "id": "b3effcdc",
   "metadata": {},
   "outputs": [],
   "source": [
    "TPR=TP/(TP+FN)\n",
    "FPR=FP/(FP+TN)\n",
    "TNR=TN/(TN+FP)\n",
    "FNR=FN/(FN+TP)\n",
    "P=TP/(TP+FP)\n",
    "R=TP/(TP+FN)\n",
    "F1_score=2*P*R/(P+R)\n",
    "print(\"Precision = \",P)\n",
    "print(\"Recall = \",R)\n",
    "print(\"F1-score = \",F1_score)"
   ]
  },
  {
   "cell_type": "code",
   "execution_count": null,
   "id": "a20235ea",
   "metadata": {},
   "outputs": [],
   "source": [
    "print('False negative rate = ',FN/(FN+TP)*100,'%')\n",
    "print('True positive rate',TP/(TP+FN)*100,'%')"
   ]
  }
 ],
 "metadata": {
  "kernelspec": {
   "display_name": "Python 3 (ipykernel)",
   "language": "python",
   "name": "python3"
  },
  "language_info": {
   "codemirror_mode": {
    "name": "ipython",
    "version": 3
   },
   "file_extension": ".py",
   "mimetype": "text/x-python",
   "name": "python",
   "nbconvert_exporter": "python",
   "pygments_lexer": "ipython3",
   "version": "3.10.1"
  }
 },
 "nbformat": 4,
 "nbformat_minor": 5
}
